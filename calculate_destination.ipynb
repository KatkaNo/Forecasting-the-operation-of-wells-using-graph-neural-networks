{
 "cells": [
  {
   "cell_type": "code",
   "execution_count": 11,
   "id": "9f8c38bb-8071-4925-ba4e-59f7e920fab2",
   "metadata": {},
   "outputs": [
    {
     "name": "stdout",
     "output_type": "stream",
     "text": [
      "Расстояние между скважинами P1 и P2: 532.5505726219811\n",
      "Расстояние между скважинами P1 и P3: 795.1367872259465\n",
      "Расстояние между скважинами P1 и I1: 616.299615528032\n",
      "Расстояние между скважинами P1 и I2: 632.7430265123434\n",
      "Расстояние между скважинами P1 и I3: 1126.2024773991575\n",
      "Расстояние между скважинами P2 и P3: 602.1720315657312\n",
      "Расстояние между скважинами P2 и I1: 865.0471067519965\n",
      "Расстояние между скважинами P2 и I2: 702.0520895204287\n",
      "Расстояние между скважинами P2 и I3: 640.948678834741\n",
      "Расстояние между скважинами P3 и I1: 599.3443451806315\n",
      "Расстояние между скважинами P3 и I2: 1255.6345079679834\n",
      "Расстояние между скважинами P3 и I3: 608.5428169816812\n",
      "Расстояние между скважинами I1 и I2: 1244.8395488977685\n",
      "Расстояние между скважинами I1 и I3: 1181.0588850688182\n",
      "Расстояние между скважинами I2 и I3: 1305.4204542981545\n"
     ]
    }
   ],
   "source": [
    "import pandas as pd\n",
    "import itertools\n",
    "from math import sqrt\n",
    "from openpyxl import load_workbook\n",
    "\n",
    "# Чтение данных из Excel\n",
    "df = pd.read_excel('SRM_6_data.xlsx', sheet_name='Расст. между скважинами')\n",
    "\n",
    "# Создание всех возможных комбинаций скважин\n",
    "combinations = list(itertools.combinations(df['Well'], 2))\n",
    "\n",
    "# Функция для вычисления расстояния между скважинами\n",
    "def calculate_distance(row):\n",
    "    Well1 = df.loc[df['Well'] == row[0], ['X', 'Y', 'Z']].values[0]\n",
    "    Well2 = df.loc[df['Well'] == row[1], ['X', 'Y', 'Z']].values[0]\n",
    "    distance = sqrt(sum((Well2 - Well1)**2))\n",
    "    return distance\n",
    "\n",
    "# Вычисление расстояния для каждой комбинации скважин\n",
    "distances = [(comb[0], comb[1], calculate_distance(comb)) for comb in combinations]\n",
    "\n",
    "# Загрузка файла Excel для записи результатов\n",
    "wb = load_workbook('SRM_6_data.xlsx')\n",
    "ws = wb['Расст. между скважинами']\n",
    "\n",
    "# Запись результатов в новые строки в том же листе\n",
    "for i, distance in enumerate(distances, start=2):  # Начинаем с 2, так как 1 строка - заголовки\n",
    "    ws[f'A{ws.max_row + i}'] = distance[0]\n",
    "    ws[f'B{ws.max_row}'] = distance[1]\n",
    "    ws[f'C{ws.max_row}'] = distance[2]\n",
    "\n",
    "for distance in distances:\n",
    "    print(f\"Расстояние между скважинами {distance[0]} и {distance[1]}: {distance[2]}\")\n",
    "\n",
    "# # Сохранение изменений\n",
    "# wb.save('SRM_6_data.xlsx')\n"
   ]
  },
  {
   "cell_type": "code",
   "execution_count": null,
   "id": "df1fb746-c336-488c-a8eb-5aca0fae8567",
   "metadata": {},
   "outputs": [],
   "source": []
  }
 ],
 "metadata": {
  "kernelspec": {
   "display_name": "Python 3 (ipykernel)",
   "language": "python",
   "name": "python3"
  },
  "language_info": {
   "codemirror_mode": {
    "name": "ipython",
    "version": 3
   },
   "file_extension": ".py",
   "mimetype": "text/x-python",
   "name": "python",
   "nbconvert_exporter": "python",
   "pygments_lexer": "ipython3",
   "version": "3.12.2"
  }
 },
 "nbformat": 4,
 "nbformat_minor": 5
}
