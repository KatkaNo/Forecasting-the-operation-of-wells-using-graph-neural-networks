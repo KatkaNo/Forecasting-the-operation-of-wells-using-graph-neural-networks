{
 "cells": [
  {
   "cell_type": "code",
   "execution_count": 3,
   "metadata": {},
   "outputs": [],
   "source": [
    "import pandas as pd\n",
    "import networkx as nx"
   ]
  },
  {
   "cell_type": "code",
   "execution_count": 9,
   "metadata": {},
   "outputs": [],
   "source": [
    "# Загрузка данных\n",
    "data = pd.read_excel(\"DynamicData_for_prediction.xlsx\")\n"
   ]
  },
  {
   "cell_type": "code",
   "execution_count": 10,
   "metadata": {},
   "outputs": [],
   "source": [
    "# Создание графа\n",
    "G = nx.Graph()"
   ]
  },
  {
   "cell_type": "code",
   "execution_count": 11,
   "metadata": {},
   "outputs": [],
   "source": [
    "# Добавление вершин (скважин)\n",
    "wells = [\"P1\", \"P2\", \"P3\", \"I1\", \"I2\", \"I3\"]  # Список скважин\n",
    "G.add_nodes_from(wells)"
   ]
  },
  {
   "cell_type": "code",
   "execution_count": 12,
   "metadata": {},
   "outputs": [],
   "source": [
    "# Добавление ребер (связей между скважинами)\n",
    "# Например, если есть связь между P1 и I1\n",
    "G.add_edge(\"P1\", \"I1\")"
   ]
  },
  {
   "cell_type": "code",
   "execution_count": null,
   "metadata": {},
   "outputs": [],
   "source": [
    "# Подготовка данных для обучения модели\n",
    "# Для каждой скважины создаем временной ряд параметров\n",
    "well_data = {}\n",
    "for well in wells:\n",
    "    parameters = [\"WBHP\", \"WLPR\", \"WOPR\", \"WWIR\", \"WWCT\"]\n",
    "    well_parameters = [f\"{parameter}:{well}\" for parameter in parameters]\n",
    "    well_data[well] = data[well_parameters]"
   ]
  },
  {
   "cell_type": "code",
   "execution_count": null,
   "metadata": {},
   "outputs": [],
   "source": [
    "# Пример временного ряда параметров для скважины P1\n",
    "print(well_data[\"P1\"])"
   ]
  },
  {
   "cell_type": "code",
   "execution_count": null,
   "metadata": {},
   "outputs": [],
   "source": [
    "import torch\n",
    "import torch.nn as nn\n",
    "import torch.nn.functional as F\n",
    "from torch_geometric.data import Data, DataLoader\n",
    "from torch_geometric.nn import GCNConv"
   ]
  },
  {
   "cell_type": "code",
   "execution_count": null,
   "metadata": {},
   "outputs": [],
   "source": [
    "# Определение архитектуры модели\n",
    "class GCN(torch.nn.Module):\n",
    "    def __init__(self):\n",
    "        super(GCN, self).__init__()\n",
    "        self.conv1 = GCNConv(5, 16)  # Входной размер 5 (количество параметров), выходной размер 16\n",
    "        self.conv2 = GCNConv(16, 1)   # Входной размер 16, выходной размер 1\n",
    "\n",
    "    def forward(self, data):\n",
    "        x, edge_index = data.x, data.edge_index\n",
    "        \n",
    "        x = self.conv1(x, edge_index)\n",
    "        x = F.relu(x)\n",
    "        x = F.dropout(x, training=self.training)\n",
    "        \n",
    "        x = self.conv2(x, edge_index)\n",
    "        return x\n"
   ]
  },
  {
   "cell_type": "code",
   "execution_count": null,
   "metadata": {},
   "outputs": [],
   "source": [
    "# Преобразование данных в формат PyTorch Geometric\n",
    "# Необходимо создать объект класса Data для каждой скважины\n",
    "data_list = []\n",
    "for well, parameters in well_data.items():\n",
    "    x = torch.tensor(parameters.values, dtype=torch.float).t()  # Параметры в формате тензора\n",
    "    edge_index = torch.tensor(G.edges(), dtype=torch.long).t().contiguous()  # Ребра графа\n",
    "    \n",
    "    data = Data(x=x, edge_index=edge_index)\n",
    "    data_list.append(data)"
   ]
  },
  {
   "cell_type": "code",
   "execution_count": null,
   "metadata": {},
   "outputs": [],
   "source": [
    "# Объединяем данные в батчи\n",
    "loader = DataLoader(data_list, batch_size=1)\n"
   ]
  },
  {
   "cell_type": "code",
   "execution_count": null,
   "metadata": {},
   "outputs": [],
   "source": [
    "# Инициализация модели и оптимизатора\n",
    "model = GCN()\n",
    "optimizer = torch.optim.Adam(model.parameters(), lr=0.01)"
   ]
  },
  {
   "cell_type": "code",
   "execution_count": null,
   "metadata": {},
   "outputs": [],
   "source": [
    "# Обучение модели\n",
    "model.train()\n",
    "for data in loader:\n",
    "    optimizer.zero_grad()\n",
    "    out = model(data)\n",
    "    # Добавьте функцию потерь и обновление параметров модели здесь\n"
   ]
  }
 ],
 "metadata": {
  "kernelspec": {
   "display_name": "Python 3",
   "language": "python",
   "name": "python3"
  },
  "language_info": {
   "codemirror_mode": {
    "name": "ipython",
    "version": 3
   },
   "file_extension": ".py",
   "mimetype": "text/x-python",
   "name": "python",
   "nbconvert_exporter": "python",
   "pygments_lexer": "ipython3",
   "version": "3.12.2"
  }
 },
 "nbformat": 4,
 "nbformat_minor": 2
}
