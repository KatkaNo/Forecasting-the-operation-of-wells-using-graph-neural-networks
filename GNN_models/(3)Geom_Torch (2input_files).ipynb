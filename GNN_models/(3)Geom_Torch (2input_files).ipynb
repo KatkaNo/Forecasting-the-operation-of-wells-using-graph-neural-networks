{
 "cells": [
  {
   "cell_type": "code",
   "execution_count": 38,
   "metadata": {},
   "outputs": [],
   "source": [
    "import pandas as pd\n",
    "import torch\n",
    "import torch.nn as nn\n",
    "import torch.nn.functional as F\n",
    "from torch_geometric.data import Data\n",
    "from torch_geometric.nn import GCNConv\n",
    "from sklearn.preprocessing import StandardScaler\n",
    "from sklearn.model_selection import train_test_split\n",
    "import numpy as np\n",
    "import matplotlib.pyplot as plt\n",
    "from sklearn.metrics.pairwise import euclidean_distances"
   ]
  },
  {
   "cell_type": "code",
   "execution_count": 39,
   "metadata": {},
   "outputs": [],
   "source": [
    "# Чтение статических данных из Excel файла\n",
    "static_data = pd.read_excel('StaticData.xlsx')"
   ]
  },
  {
   "cell_type": "code",
   "execution_count": 40,
   "metadata": {},
   "outputs": [],
   "source": [
    "# Выделение статических признаков\n",
    "static_features = static_data[['X:I1', 'Y:I1', 'poro:I1', 'perm:I1',\n",
    "                               'X:I2', 'Y:I2', 'poro:I2', 'perm:I2',\n",
    "                               'X:I3', 'Y:I3', 'poro:I3', 'perm:I3',\n",
    "                               'X:P1', 'Y:P1', 'poro:P1', 'perm:P1',\n",
    "                               'X:P2', 'Y:P2', 'poro:P2', 'perm:P2',\n",
    "                               'X:P3', 'Y:P3', 'poro:P3', 'perm:P3']]\n"
   ]
  },
  {
   "cell_type": "code",
   "execution_count": 29,
   "metadata": {},
   "outputs": [],
   "source": [
    "# Нормализация статических признаков\n",
    "static_scaler = StandardScaler()\n",
    "static_features = static_scaler.fit_transform(static_features)\n"
   ]
  },
  {
   "cell_type": "code",
   "execution_count": 41,
   "metadata": {},
   "outputs": [],
   "source": [
    "# Чтение динамических данных из Excel файла\n",
    "dynamic_data = pd.read_excel('DynamicData_for_prediction.xlsx')\n"
   ]
  },
  {
   "cell_type": "code",
   "execution_count": 42,
   "metadata": {},
   "outputs": [],
   "source": [
    "# Выделение динамических признаков\n",
    "dynamic_features = dynamic_data[['WBHP:I1', 'WWIR:I1', 'WBHP:I2', 'WWIR:I2', 'WBHP:I3', 'WWIR:I3',\n",
    "                                 'WBHP:P1', 'WLPR:P1', 'WWCT:P1', 'WOPR:P1',\n",
    "                                 'WBHP:P2', 'WLPR:P2', 'WWCT:P2', 'WOPR:P2',\n",
    "                                 'WBHP:P3', 'WLPR:P3', 'WWCT:P3', 'WOPR:P3']]\n"
   ]
  },
  {
   "cell_type": "code",
   "execution_count": 43,
   "metadata": {},
   "outputs": [],
   "source": [
    "# Нормализация динамических признаков\n",
    "dynamic_scaler = StandardScaler()\n",
    "dynamic_features = dynamic_scaler.fit_transform(dynamic_features)\n"
   ]
  },
  {
   "cell_type": "code",
   "execution_count": 44,
   "metadata": {},
   "outputs": [],
   "source": [
    "# Выделение координат скважин\n",
    "coordinates = static_data[['X:I1', 'Y:I1', 'X:I2', 'Y:I2', 'X:I3', 'Y:I3', 'X:P1', 'Y:P1', 'X:P2', 'Y:P2', 'X:P3', 'Y:P3']]\n"
   ]
  },
  {
   "cell_type": "code",
   "execution_count": 54,
   "metadata": {},
   "outputs": [
    {
     "name": "stdout",
     "output_type": "stream",
     "text": [
      "X:I1    1150\n",
      "Y:I1    1450\n",
      "X:I2    1850\n",
      "Y:I2     650\n",
      "X:I3     660\n",
      "Y:I3     450\n",
      "X:P1    1550\n",
      "Y:P1    1050\n",
      "X:P2    1250\n",
      "Y:P2     650\n",
      "X:P3     760\n",
      "Y:P3     950\n",
      "Name: 0, dtype: int64\n"
     ]
    }
   ],
   "source": [
    "print(coordinates.iloc[0])"
   ]
  },
  {
   "cell_type": "code",
   "execution_count": 55,
   "metadata": {},
   "outputs": [
    {
     "name": "stdout",
     "output_type": "stream",
     "text": [
      "[[0.]]\n"
     ]
    }
   ],
   "source": [
    "\n",
    "# Вычисление матрицы расстояний между скважинами\n",
    "num_nodes = coordinates.shape[0]\n",
    "distances = np.zeros((num_nodes, num_nodes))\n",
    "\n",
    "for i in range(1, num_nodes):\n",
    "    for j in range(1, num_nodes):\n",
    "        dist = np.linalg.norm(coordinates.iloc[i] - coordinates.iloc[j])  # Используем только первую строку координат\n",
    "        distances[i, j] = dist\n",
    "\n",
    "print(distances)"
   ]
  },
  {
   "cell_type": "code",
   "execution_count": 51,
   "metadata": {},
   "outputs": [
    {
     "name": "stdout",
     "output_type": "stream",
     "text": [
      "   X:I1  Y:I1  X:I2  Y:I2  X:I3  Y:I3  X:P1  Y:P1  X:P2  Y:P2  X:P3  Y:P3\n",
      "0  1150  1450  1850   650   660   450  1550  1050  1250   650   760   950\n"
     ]
    }
   ],
   "source": [
    "print(coordinates.head())"
   ]
  },
  {
   "cell_type": "code",
   "execution_count": 33,
   "metadata": {},
   "outputs": [],
   "source": [
    "# Создание графовой структуры\n",
    "num_nodes = static_features.shape[0]\n",
    "edges = []\n",
    "for i in range(num_nodes):\n",
    "    for j in range(i + 1, num_nodes):\n",
    "        dist = np.linalg.norm(static_features[i, :2] - static_features[j, :2])  # Расстояние между скважинами по координатам\n",
    "        edges.append([i, j, 1.0 / dist])  # Используем обратное расстояние в качестве веса ребра\n"
   ]
  },
  {
   "cell_type": "code",
   "execution_count": 37,
   "metadata": {},
   "outputs": [
    {
     "name": "stdout",
     "output_type": "stream",
     "text": [
      "dist\n"
     ]
    }
   ],
   "source": [
    "print(dist)"
   ]
  },
  {
   "cell_type": "code",
   "execution_count": 34,
   "metadata": {},
   "outputs": [],
   "source": [
    "# Преобразование списка ребер в тензор PyTorch\n",
    "edges = torch.tensor(edges, dtype=torch.long).t().contiguous()\n"
   ]
  },
  {
   "cell_type": "code",
   "execution_count": 35,
   "metadata": {},
   "outputs": [
    {
     "name": "stdout",
     "output_type": "stream",
     "text": [
      "No edges found. Please check your data.\n"
     ]
    }
   ],
   "source": [
    "if len(edges) > 0:\n",
    "    data = Data(x=torch.tensor(static_features, dtype=torch.float32),\n",
    "                edge_index=edges[:2],  # Первые два элемента тензора edges представляют индексы начала и конца ребра\n",
    "                edge_attr=edges[2].unsqueeze(1),  # Третий элемент тензора edges представляет вес ребра (расстояние)\n",
    "                y=torch.tensor(dynamic_features, dtype=torch.float32))\n",
    "else:\n",
    "    print(\"No edges found. Please check your data.\")\n"
   ]
  },
  {
   "cell_type": "code",
   "execution_count": null,
   "metadata": {},
   "outputs": [],
   "source": []
  }
 ],
 "metadata": {
  "kernelspec": {
   "display_name": "Python 3",
   "language": "python",
   "name": "python3"
  },
  "language_info": {
   "codemirror_mode": {
    "name": "ipython",
    "version": 3
   },
   "file_extension": ".py",
   "mimetype": "text/x-python",
   "name": "python",
   "nbconvert_exporter": "python",
   "pygments_lexer": "ipython3",
   "version": "3.12.2"
  }
 },
 "nbformat": 4,
 "nbformat_minor": 2
}
