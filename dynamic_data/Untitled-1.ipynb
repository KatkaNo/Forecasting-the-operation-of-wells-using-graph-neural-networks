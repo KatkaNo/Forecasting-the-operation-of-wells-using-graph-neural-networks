{
 "cells": [
  {
   "cell_type": "code",
   "execution_count": 1,
   "metadata": {},
   "outputs": [
    {
     "name": "stdout",
     "output_type": "stream",
     "text": [
      "Defaulting to user installation because normal site-packages is not writeable\n",
      "Collecting git+https://github.com/equinor/ecl.git\n",
      "  Cloning https://github.com/equinor/ecl.git to c:\\users\\sirius\\appdata\\local\\temp\\pip-req-build-y30wkca1\n",
      "  Resolved https://github.com/equinor/ecl.git to commit 8f43e8e8aeea9269ba4bb50e290357850298f2af\n",
      "  Installing build dependencies: started\n",
      "  Installing build dependencies: still running...\n",
      "  Installing build dependencies: finished with status 'done'\n",
      "  Getting requirements to build wheel: started\n",
      "  Getting requirements to build wheel: finished with status 'done'\n",
      "  Preparing metadata (pyproject.toml): started\n",
      "  Preparing metadata (pyproject.toml): finished with status 'done'\n",
      "Collecting cwrap (from resdata==4.2.2.dev1+g8f43e8e8)\n",
      "  Downloading cwrap-1.6.6-py3-none-any.whl.metadata (1.2 kB)\n",
      "Requirement already satisfied: numpy in c:\\programdata\\anaconda3\\lib\\site-packages (from resdata==4.2.2.dev1+g8f43e8e8) (1.26.4)\n",
      "Requirement already satisfied: pandas in c:\\programdata\\anaconda3\\lib\\site-packages (from resdata==4.2.2.dev1+g8f43e8e8) (2.1.4)\n",
      "Requirement already satisfied: six in c:\\programdata\\anaconda3\\lib\\site-packages (from cwrap->resdata==4.2.2.dev1+g8f43e8e8) (1.16.0)\n",
      "Requirement already satisfied: python-dateutil>=2.8.2 in c:\\programdata\\anaconda3\\lib\\site-packages (from pandas->resdata==4.2.2.dev1+g8f43e8e8) (2.8.2)\n",
      "Requirement already satisfied: pytz>=2020.1 in c:\\programdata\\anaconda3\\lib\\site-packages (from pandas->resdata==4.2.2.dev1+g8f43e8e8) (2023.3.post1)\n",
      "Requirement already satisfied: tzdata>=2022.1 in c:\\programdata\\anaconda3\\lib\\site-packages (from pandas->resdata==4.2.2.dev1+g8f43e8e8) (2023.3)\n",
      "Downloading cwrap-1.6.6-py3-none-any.whl (16 kB)\n",
      "Building wheels for collected packages: resdata\n",
      "  Building wheel for resdata (pyproject.toml): started\n",
      "  Building wheel for resdata (pyproject.toml): still running...\n",
      "  Building wheel for resdata (pyproject.toml): still running...\n",
      "  Building wheel for resdata (pyproject.toml): finished with status 'done'\n",
      "  Created wheel for resdata: filename=resdata-4.2.2.dev1+g8f43e8e8-cp311-cp311-win_amd64.whl size=1278955 sha256=b48425184bcd7137dc1c413e379fa88a55b872f5cb73e9d54c9da7940eafe0b0\n",
      "  Stored in directory: C:\\Users\\Sirius\\AppData\\Local\\Temp\\pip-ephem-wheel-cache-r307vi8e\\wheels\\62\\12\\07\\d5603bf1d5860cf70569a3758dda494cf04259a811949f8e1b\n",
      "Successfully built resdata\n",
      "Installing collected packages: cwrap, resdata\n",
      "Successfully installed cwrap-1.6.6 resdata-4.2.2.dev1+g8f43e8e8\n",
      "Note: you may need to restart the kernel to use updated packages.\n"
     ]
    },
    {
     "name": "stderr",
     "output_type": "stream",
     "text": [
      "  Running command git clone --filter=blob:none --quiet https://github.com/equinor/ecl.git 'C:\\Users\\Sirius\\AppData\\Local\\Temp\\pip-req-build-y30wkca1'\n"
     ]
    }
   ],
   "source": [
    "pip install git+https://github.com/equinor/ecl.git"
   ]
  },
  {
   "cell_type": "code",
   "execution_count": 2,
   "metadata": {},
   "outputs": [
    {
     "ename": "ModuleNotFoundError",
     "evalue": "No module named 'ecl'",
     "output_type": "error",
     "traceback": [
      "\u001b[1;31m---------------------------------------------------------------------------\u001b[0m",
      "\u001b[1;31mModuleNotFoundError\u001b[0m                       Traceback (most recent call last)",
      "Cell \u001b[1;32mIn[2], line 1\u001b[0m\n\u001b[1;32m----> 1\u001b[0m \u001b[39mfrom\u001b[39;00m \u001b[39mecl\u001b[39;00m\u001b[39m.\u001b[39;00m\u001b[39msummary\u001b[39;00m \u001b[39mimport\u001b[39;00m EclSum\n\u001b[0;32m      2\u001b[0m \u001b[39mimport\u001b[39;00m \u001b[39mpandas\u001b[39;00m \u001b[39mas\u001b[39;00m \u001b[39mpd\u001b[39;00m\n\u001b[0;32m      3\u001b[0m \u001b[39mfrom\u001b[39;00m \u001b[39mmatplotlib\u001b[39;00m \u001b[39mimport\u001b[39;00m pyplot \u001b[39mas\u001b[39;00m plt\n",
      "\u001b[1;31mModuleNotFoundError\u001b[0m: No module named 'ecl'"
     ]
    }
   ],
   "source": [
    "from ecl.summary import EclSum\n",
    "import pandas as pd\n",
    "from matplotlib import pyplot as plt"
   ]
  },
  {
   "cell_type": "code",
   "execution_count": 3,
   "metadata": {},
   "outputs": [
    {
     "ename": "ImportError",
     "evalue": "cannot import name 'EclSum' from 'resdata.summary' (C:\\Users\\Sirius\\AppData\\Roaming\\Python\\Python311\\site-packages\\resdata\\summary\\__init__.py)",
     "output_type": "error",
     "traceback": [
      "\u001b[1;31m---------------------------------------------------------------------------\u001b[0m",
      "\u001b[1;31mImportError\u001b[0m                               Traceback (most recent call last)",
      "Cell \u001b[1;32mIn[3], line 1\u001b[0m\n\u001b[1;32m----> 1\u001b[0m \u001b[39mfrom\u001b[39;00m \u001b[39mresdata\u001b[39;00m\u001b[39m.\u001b[39;00m\u001b[39msummary\u001b[39;00m \u001b[39mimport\u001b[39;00m EclSum\n\u001b[0;32m      2\u001b[0m \u001b[39mimport\u001b[39;00m \u001b[39mpandas\u001b[39;00m \u001b[39mas\u001b[39;00m \u001b[39mpd\u001b[39;00m\n\u001b[0;32m      3\u001b[0m \u001b[39mfrom\u001b[39;00m \u001b[39mmatplotlib\u001b[39;00m \u001b[39mimport\u001b[39;00m pyplot \u001b[39mas\u001b[39;00m plt\n",
      "\u001b[1;31mImportError\u001b[0m: cannot import name 'EclSum' from 'resdata.summary' (C:\\Users\\Sirius\\AppData\\Roaming\\Python\\Python311\\site-packages\\resdata\\summary\\__init__.py)"
     ]
    }
   ],
   "source": [
    "from resdata.summary import EclSum\n",
    "import pandas as pd\n",
    "from matplotlib import pyplot as plt"
   ]
  },
  {
   "cell_type": "code",
   "execution_count": 5,
   "metadata": {},
   "outputs": [],
   "source": [
    "from resdata.summary import Summary\n",
    "import pandas as pd\n",
    "from matplotlib import pyplot as plt"
   ]
  },
  {
   "cell_type": "code",
   "execution_count": 8,
   "metadata": {},
   "outputs": [],
   "source": [
    "import warnings\n",
    "warnings.filterwarnings(\"ignore\")"
   ]
  },
  {
   "cell_type": "code",
   "execution_count": 11,
   "metadata": {},
   "outputs": [
    {
     "ename": "OSError",
     "evalue": "Failed to create summary instance from argument:result.SMSPEC",
     "output_type": "error",
     "traceback": [
      "\u001b[1;31m---------------------------------------------------------------------------\u001b[0m",
      "\u001b[1;31mOSError\u001b[0m                                   Traceback (most recent call last)",
      "Cell \u001b[1;32mIn[11], line 1\u001b[0m\n\u001b[1;32m----> 1\u001b[0m summary  \u001b[39m=\u001b[39m Summary(\u001b[39m'\u001b[39m\u001b[39mresult.SMSPEC\u001b[39m\u001b[39m'\u001b[39m,  \u001b[39m'\u001b[39m\u001b[39mresult.UNSMRY\u001b[39m\u001b[39m'\u001b[39m)\n",
      "File \u001b[1;32m~\\AppData\\Roaming\\Python\\Python311\\site-packages\\resdata\\summary\\rd_sum.py:252\u001b[0m, in \u001b[0;36mSummary.__init__\u001b[1;34m(self, load_case, join_string, include_restart, lazy_load, file_options)\u001b[0m\n\u001b[0;32m    248\u001b[0m c_pointer \u001b[39m=\u001b[39m \u001b[39mself\u001b[39m\u001b[39m.\u001b[39m_fread_alloc_case2(\n\u001b[0;32m    249\u001b[0m     load_case, join_string, include_restart, lazy_load, file_options\n\u001b[0;32m    250\u001b[0m )\n\u001b[0;32m    251\u001b[0m \u001b[39mif\u001b[39;00m c_pointer \u001b[39mis\u001b[39;00m \u001b[39mNone\u001b[39;00m:\n\u001b[1;32m--> 252\u001b[0m     \u001b[39mraise\u001b[39;00m \u001b[39mIOError\u001b[39;00m(\n\u001b[0;32m    253\u001b[0m         \u001b[39m\"\u001b[39m\u001b[39mFailed to create summary instance from argument:\u001b[39m\u001b[39m%s\u001b[39;00m\u001b[39m\"\u001b[39m \u001b[39m%\u001b[39m load_case\n\u001b[0;32m    254\u001b[0m     )\n\u001b[0;32m    256\u001b[0m \u001b[39msuper\u001b[39m(Summary, \u001b[39mself\u001b[39m)\u001b[39m.\u001b[39m\u001b[39m__init__\u001b[39m(c_pointer)\n\u001b[0;32m    257\u001b[0m \u001b[39mself\u001b[39m\u001b[39m.\u001b[39m_load_case \u001b[39m=\u001b[39m load_case\n",
      "\u001b[1;31mOSError\u001b[0m: Failed to create summary instance from argument:result.SMSPEC"
     ]
    }
   ],
   "source": [
    "summary  = Summary('result.SMSPEC',  'result.UNSMRY')"
   ]
  },
  {
   "cell_type": "code",
   "execution_count": null,
   "metadata": {},
   "outputs": [],
   "source": []
  }
 ],
 "metadata": {
  "kernelspec": {
   "display_name": "base",
   "language": "python",
   "name": "python3"
  },
  "language_info": {
   "codemirror_mode": {
    "name": "ipython",
    "version": 3
   },
   "file_extension": ".py",
   "mimetype": "text/x-python",
   "name": "python",
   "nbconvert_exporter": "python",
   "pygments_lexer": "ipython3",
   "version": "3.11.7"
  },
  "orig_nbformat": 4
 },
 "nbformat": 4,
 "nbformat_minor": 2
}
